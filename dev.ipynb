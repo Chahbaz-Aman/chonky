{
 "cells": [
  {
   "cell_type": "markdown",
   "id": "f5acf2f2-5098-47b0-995c-5f333d31e66a",
   "metadata": {},
   "source": [
    "# Chonking for Better DocQnA"
   ]
  },
  {
   "cell_type": "markdown",
   "id": "e2ec7727-8f35-4cbe-9ec5-2fb061dfa35d",
   "metadata": {},
   "source": [
    "## Queries"
   ]
  },
  {
   "cell_type": "markdown",
   "id": "bb3e8a4e-3d22-4882-a5cd-9d32877b0c01",
   "metadata": {},
   "source": [
    "|Query|Expectation|Implementation Detail|\n",
    "|---|---|---|\n",
    "| What information present in an Manufacturer's Manual is actually irrelevant for writing an SOP? | <li> The irrelevant sections can be dropped off </li> <li>If SOP contains ALL of the information in the Manufacturer's Manual then what's the point of rewriting?</li>|Filter Table of Contents & drop irrelevant pages|\n",
    "|How is the procedure in the Manufacturer's Manual different from what's in an SOP? | <li>SOPs have pre-defined tasks that need to be carried out - user specific experiments. </li><li>These tasks require combining the various sub-procedures specified by the manufacturer.</li>|<ol><li>Identify sub-processes</li><li>Store subprocess summaries in metadata</li><li>Prompt LLM with experiment & Subprocess Options</li></ol>"
   ]
  },
  {
   "cell_type": "code",
   "execution_count": 151,
   "id": "09e0a8a9-409b-43c4-a0ef-e5bae6633f99",
   "metadata": {},
   "outputs": [],
   "source": [
    "import fitz\n",
    "import re\n",
    "import pandas as pd\n",
    "import os\n",
    "import shutil"
   ]
  },
  {
   "cell_type": "code",
   "execution_count": 86,
   "id": "2211d144-e16a-4136-902c-63f5caccac6e",
   "metadata": {},
   "outputs": [],
   "source": [
    "doc = fitz.open(\"data/Akta_Pure_User_Manual.PDF\")"
   ]
  },
  {
   "cell_type": "code",
   "execution_count": 87,
   "id": "cf529919-fba9-4c46-8e01-13896c83bae1",
   "metadata": {},
   "outputs": [],
   "source": [
    "pages = []\n",
    "for page in doc.pages(start = 1, stop = 10):\n",
    "    pages.append(page)"
   ]
  },
  {
   "cell_type": "markdown",
   "id": "2ea16b7b-625a-447f-a223-ea81fc7c47cb",
   "metadata": {
    "jp-MarkdownHeadingCollapsed": true
   },
   "source": [
    "## Extract Table of Contents"
   ]
  },
  {
   "cell_type": "code",
   "execution_count": 88,
   "id": "a333fdd6-5016-4375-858f-7e28b78e3bce",
   "metadata": {},
   "outputs": [
    {
     "data": {
      "text/html": [
       "<div>\n",
       "<style scoped>\n",
       "    .dataframe tbody tr th:only-of-type {\n",
       "        vertical-align: middle;\n",
       "    }\n",
       "\n",
       "    .dataframe tbody tr th {\n",
       "        vertical-align: top;\n",
       "    }\n",
       "\n",
       "    .dataframe thead th {\n",
       "        text-align: right;\n",
       "    }\n",
       "</style>\n",
       "<table border=\"1\" class=\"dataframe\">\n",
       "  <thead>\n",
       "    <tr style=\"text-align: right;\">\n",
       "      <th></th>\n",
       "      <th>Index</th>\n",
       "      <th>Heading</th>\n",
       "    </tr>\n",
       "  </thead>\n",
       "  <tbody>\n",
       "    <tr>\n",
       "      <th>0</th>\n",
       "      <td>1</td>\n",
       "      <td>Introduction</td>\n",
       "    </tr>\n",
       "    <tr>\n",
       "      <th>1</th>\n",
       "      <td>1.1</td>\n",
       "      <td>Important user information</td>\n",
       "    </tr>\n",
       "    <tr>\n",
       "      <th>2</th>\n",
       "      <td>1.2</td>\n",
       "      <td>ÄKTA pure overview</td>\n",
       "    </tr>\n",
       "    <tr>\n",
       "      <th>3</th>\n",
       "      <td>1.3</td>\n",
       "      <td>ÄKTA pure user documentation</td>\n",
       "    </tr>\n",
       "    <tr>\n",
       "      <th>4</th>\n",
       "      <td>2</td>\n",
       "      <td>The ÄKTA pure instrument</td>\n",
       "    </tr>\n",
       "  </tbody>\n",
       "</table>\n",
       "</div>"
      ],
      "text/plain": [
       "  Index                        Heading\n",
       "0     1                  Introduction \n",
       "1   1.1    Important user information \n",
       "2   1.2            ÄKTA pure overview \n",
       "3   1.3  ÄKTA pure user documentation \n",
       "4     2      The ÄKTA pure instrument "
      ]
     },
     "execution_count": 88,
     "metadata": {},
     "output_type": "execute_result"
    }
   ],
   "source": [
    "contents_text = pages[0].get_text()\n",
    "pattern = r'(\\d+(\\.\\d+)*)\\s+(.*?)\\s+(\\d+)'\n",
    "matches = re.findall(pattern, contents_text)\n",
    "table_of_contents = []\n",
    "for match in matches:\n",
    "    number = match[0]\n",
    "    heading = re.sub('\\.{2,}', '', match[2])\n",
    "    page_number = match[3]\n",
    "    table_of_contents.append({\"Index\": number, \"Heading\": heading})\n",
    "\n",
    "table_of_contents = pd.DataFrame(table_of_contents)\n",
    "table_of_contents.head()"
   ]
  },
  {
   "cell_type": "markdown",
   "id": "05a835be-bdfa-4f36-b884-3426fd856333",
   "metadata": {},
   "source": [
    "Easy Alternative!"
   ]
  },
  {
   "cell_type": "code",
   "execution_count": 89,
   "id": "98747071-37e8-462e-86a2-a2d2ac7b5055",
   "metadata": {},
   "outputs": [
    {
     "data": {
      "text/html": [
       "<div>\n",
       "<style scoped>\n",
       "    .dataframe tbody tr th:only-of-type {\n",
       "        vertical-align: middle;\n",
       "    }\n",
       "\n",
       "    .dataframe tbody tr th {\n",
       "        vertical-align: top;\n",
       "    }\n",
       "\n",
       "    .dataframe thead th {\n",
       "        text-align: right;\n",
       "    }\n",
       "</style>\n",
       "<table border=\"1\" class=\"dataframe\">\n",
       "  <thead>\n",
       "    <tr style=\"text-align: right;\">\n",
       "      <th></th>\n",
       "      <th>Level</th>\n",
       "      <th>Title</th>\n",
       "      <th>Page Number</th>\n",
       "    </tr>\n",
       "  </thead>\n",
       "  <tbody>\n",
       "    <tr>\n",
       "      <th>0</th>\n",
       "      <td>1</td>\n",
       "      <td>Coverpage</td>\n",
       "      <td>1</td>\n",
       "    </tr>\n",
       "    <tr>\n",
       "      <th>1</th>\n",
       "      <td>1</td>\n",
       "      <td>Table of Contents</td>\n",
       "      <td>2</td>\n",
       "    </tr>\n",
       "    <tr>\n",
       "      <th>2</th>\n",
       "      <td>1</td>\n",
       "      <td>1  Introduction</td>\n",
       "      <td>6</td>\n",
       "    </tr>\n",
       "    <tr>\n",
       "      <th>3</th>\n",
       "      <td>2</td>\n",
       "      <td>1.1  Important user information</td>\n",
       "      <td>7</td>\n",
       "    </tr>\n",
       "    <tr>\n",
       "      <th>4</th>\n",
       "      <td>2</td>\n",
       "      <td>1.2  ÄKTA pure overview</td>\n",
       "      <td>9</td>\n",
       "    </tr>\n",
       "  </tbody>\n",
       "</table>\n",
       "</div>"
      ],
      "text/plain": [
       "   Level                            Title  Page Number\n",
       "0      1                        Coverpage            1\n",
       "1      1                Table of Contents            2\n",
       "2      1                  1  Introduction            6\n",
       "3      2  1.1  Important user information            7\n",
       "4      2          1.2  ÄKTA pure overview            9"
      ]
     },
     "execution_count": 89,
     "metadata": {},
     "output_type": "execute_result"
    }
   ],
   "source": [
    "table_of_contents = doc.get_toc()\n",
    "table_of_contents = pd.DataFrame(table_of_contents, columns = ['Level', 'Title', 'Page Number'])\n",
    "table_of_contents.head()"
   ]
  },
  {
   "cell_type": "markdown",
   "id": "724fb5e2-04a6-4606-91e0-a8bb229c6866",
   "metadata": {
    "jp-MarkdownHeadingCollapsed": true
   },
   "source": [
    "## Extract Images"
   ]
  },
  {
   "cell_type": "code",
   "execution_count": 60,
   "id": "2ff08dca-ff9b-41ac-8772-a4f359abd7e7",
   "metadata": {},
   "outputs": [],
   "source": [
    "IMG_DIR = 'images'\n",
    "os.makedirs(IMG_DIR, exist_ok=True)"
   ]
  },
  {
   "cell_type": "code",
   "execution_count": 61,
   "id": "939912a0-9973-47c1-8d0b-70958e847890",
   "metadata": {},
   "outputs": [
    {
     "name": "stdout",
     "output_type": "stream",
     "text": [
      "Found 732 images. Saved all under images/\n"
     ]
    }
   ],
   "source": [
    "for page_index in range(len(doc)):\n",
    "\tpage = doc[page_index]\n",
    "\timage_list = page.get_images()\n",
    "\n",
    "\tfor image_index, img in enumerate(image_list, start=1):\n",
    "\t\txref = img[0]\n",
    "\t\tpix = fitz.Pixmap(doc, xref)\n",
    "\n",
    "\t\tif pix.n - pix.alpha > 3:\n",
    "\t\t\tpix = fitz.Pixmap(fitz.csRGB, pix)\n",
    "\n",
    "\t\tpix.save(f\"{IMG_DIR}/page_{page_index}-image_{image_index}.png\")\n",
    "\t\tpix = None\n",
    "print(f\"Found {len(os.listdir(IMG_DIR))} images. Saved all under {IMG_DIR}/\")"
   ]
  },
  {
   "cell_type": "markdown",
   "id": "db4918cb-0790-4b87-bca3-a0dc8138c1b8",
   "metadata": {
    "jp-MarkdownHeadingCollapsed": true
   },
   "source": [
    "## Extract Tables"
   ]
  },
  {
   "cell_type": "code",
   "execution_count": 116,
   "id": "a228d231-0688-4bd7-b5a2-f5d18a66c959",
   "metadata": {},
   "outputs": [
    {
     "name": "stdout",
     "output_type": "stream",
     "text": [
      "Main functions\n",
      "Module\n",
      "Create and edit methods using one or a combination of:\n",
      "Method Editor\n",
      "•\n",
      "Predefined methods with built-in application support\n",
      "•\n",
      "Drag-and-drop function to build methods with relevan\n",
      "\n",
      " --------------------------------------------------\n",
      "1 tables found on page 9 of data/Akta_Pure_User_Manual.PDF\n",
      " --------------------------------------------------\n"
     ]
    },
    {
     "data": {
      "text/html": [
       "<div>\n",
       "<style scoped>\n",
       "    .dataframe tbody tr th:only-of-type {\n",
       "        vertical-align: middle;\n",
       "    }\n",
       "\n",
       "    .dataframe tbody tr th {\n",
       "        vertical-align: top;\n",
       "    }\n",
       "\n",
       "    .dataframe thead th {\n",
       "        text-align: right;\n",
       "    }\n",
       "</style>\n",
       "<table border=\"1\" class=\"dataframe\">\n",
       "  <thead>\n",
       "    <tr style=\"text-align: right;\">\n",
       "      <th></th>\n",
       "      <th>Module</th>\n",
       "      <th>Main functions</th>\n",
       "    </tr>\n",
       "  </thead>\n",
       "  <tbody>\n",
       "    <tr>\n",
       "      <th>0</th>\n",
       "      <td>Method Editor</td>\n",
       "      <td>Create and edit methods using one or a combina...</td>\n",
       "    </tr>\n",
       "    <tr>\n",
       "      <th>1</th>\n",
       "      <td>System Control</td>\n",
       "      <td>Start, monitor and control runs. The current f...</td>\n",
       "    </tr>\n",
       "    <tr>\n",
       "      <th>2</th>\n",
       "      <td>Evaluation</td>\n",
       "      <td>Open results, evaluate runs and create reports...</td>\n",
       "    </tr>\n",
       "    <tr>\n",
       "      <th>3</th>\n",
       "      <td></td>\n",
       "      <td></td>\n",
       "    </tr>\n",
       "  </tbody>\n",
       "</table>\n",
       "</div>"
      ],
      "text/plain": [
       "           Module                                     Main functions\n",
       "0   Method Editor  Create and edit methods using one or a combina...\n",
       "1  System Control  Start, monitor and control runs. The current f...\n",
       "2      Evaluation  Open results, evaluate runs and create reports...\n",
       "3                                                                   "
      ]
     },
     "execution_count": 116,
     "metadata": {},
     "output_type": "execute_result"
    }
   ],
   "source": [
    "from pprint import pprint\n",
    "\n",
    "page = doc[9]\n",
    "print(page.get_text()[0:200])\n",
    "print('\\n','-'*50)\n",
    "\n",
    "tabs = page.find_tables()\n",
    "print(f\"{len(tabs.tables)} tables found on {page}\\n\", '-'*50)\n",
    "pd.DataFrame(tabs[0].extract()[1:], columns = tabs[0].extract()[0])"
   ]
  },
  {
   "cell_type": "code",
   "execution_count": 153,
   "id": "dd6a6862-84a9-4445-bf81-c3de7f877300",
   "metadata": {},
   "outputs": [],
   "source": [
    "TABLE_DIR = 'tables'\n",
    "os.makedirs(TABLE_DIR, exist_ok=True)\n",
    "os.makedirs(os.path.join(TABLE_DIR, '.temp'), exist_ok=True)"
   ]
  },
  {
   "cell_type": "code",
   "execution_count": 154,
   "id": "a14642c8-7efc-4856-bb31-c945f7bfa87d",
   "metadata": {},
   "outputs": [],
   "source": [
    "def extract_and_save_tables(doc, output_directory = os.path.join(TABLE_DIR, '.temp')): \n",
    "    count = 0\n",
    "    for page_num in range(doc.page_count):\n",
    "        page = doc[page_num]\n",
    "        tabs = page.find_tables()\n",
    "        if len(tabs.tables) > 0:\n",
    "            for idx, tab in enumerate(tabs):\n",
    "                table_data = tab.extract()\n",
    "                header, *rows = table_data\n",
    "    \n",
    "                # Convert table data to DataFrame\n",
    "                df = pd.DataFrame(rows, columns=header)\n",
    "    \n",
    "                # Save DataFrame as CSV\n",
    "                table_filename = f\"table_page_{page_num + 1}_idx_{idx + 1}.csv\"\n",
    "                table_path = os.path.join(output_directory, table_filename)\n",
    "                if df.shape[0]>0:\n",
    "                    df.to_csv(table_path, index=False)\n",
    "                    count+=1\n",
    "    print(f\"Saved {count} tables\")"
   ]
  },
  {
   "cell_type": "code",
   "execution_count": 158,
   "id": "8993de38-2676-4ee7-a141-90f0b66a7cdc",
   "metadata": {},
   "outputs": [],
   "source": [
    "def merge_and_save_tables(output_directory):\n",
    "    input_directory = os.path.join(output_directory, '.temp')\n",
    "    table_files = sorted(os.listdir(input_directory))\n",
    "    queue = []\n",
    "\n",
    "    for table_file in table_files:\n",
    "        table_path = os.path.join(input_directory, table_file)\n",
    "        df = pd.read_csv(table_path)\n",
    "\n",
    "        try: \n",
    "            assert (not queue or all(df.columns == queue[0].columns))\n",
    "            queue.append(df)\n",
    "        except:\n",
    "            merged_table = pd.concat(queue, ignore_index=True)\n",
    "            merged_filename = f\"merged_{table_file}\"\n",
    "            merged_table_path = os.path.join(output_directory, merged_filename)\n",
    "            merged_table.to_csv(merged_table_path, index=False)\n",
    "\n",
    "            queue = [df]\n",
    "\n",
    "    if queue:\n",
    "        merged_table = pd.concat(queue, ignore_index=True)\n",
    "        merged_filename = f\"merged_last_{table_file}\"\n",
    "        merged_table_path = os.path.join(output_directory, merged_filename)\n",
    "        merged_table.to_csv(merged_table_path, index=False)\n",
    "\n",
    "    shutil.rmtree(input_directory)\n",
    "    print(f\"{len(os.listdir(output_directory))} tables in repository after merging\")"
   ]
  },
  {
   "cell_type": "code",
   "execution_count": 156,
   "id": "e563d289-0fca-4911-b403-9f658cfdefb6",
   "metadata": {},
   "outputs": [
    {
     "name": "stdout",
     "output_type": "stream",
     "text": [
      "Saved 402 tables\n"
     ]
    }
   ],
   "source": [
    "extract_and_save_tables(doc)"
   ]
  },
  {
   "cell_type": "code",
   "execution_count": 159,
   "id": "b6c09d10-a79e-465f-b251-c5bec0571729",
   "metadata": {},
   "outputs": [
    {
     "name": "stdout",
     "output_type": "stream",
     "text": [
      "180 tables in repository after merging\n"
     ]
    }
   ],
   "source": [
    "merge_and_save_tables(TABLE_DIR)"
   ]
  },
  {
   "cell_type": "markdown",
   "id": "ef0d71e4-4932-4200-9e9d-c293dcd6b2f2",
   "metadata": {},
   "source": [
    "## What Next?"
   ]
  },
  {
   "cell_type": "code",
   "execution_count": null,
   "id": "6dbad691-5eef-452f-935e-99438eb65980",
   "metadata": {},
   "outputs": [],
   "source": []
  },
  {
   "cell_type": "code",
   "execution_count": null,
   "id": "fbbb157c-ac98-4e85-a691-a1b5d81f5901",
   "metadata": {},
   "outputs": [],
   "source": []
  },
  {
   "cell_type": "code",
   "execution_count": null,
   "id": "107356f5-b41d-4e55-abbf-03ee70668488",
   "metadata": {},
   "outputs": [],
   "source": []
  },
  {
   "cell_type": "code",
   "execution_count": null,
   "id": "9983824e-1257-459a-bc77-7e87614b36be",
   "metadata": {},
   "outputs": [],
   "source": []
  },
  {
   "cell_type": "code",
   "execution_count": null,
   "id": "927eea5a-a945-488f-bd6b-5512a2c87889",
   "metadata": {},
   "outputs": [],
   "source": []
  }
 ],
 "metadata": {
  "kernelspec": {
   "display_name": "Python 3 (ipykernel)",
   "language": "python",
   "name": "python3"
  },
  "language_info": {
   "codemirror_mode": {
    "name": "ipython",
    "version": 3
   },
   "file_extension": ".py",
   "mimetype": "text/x-python",
   "name": "python",
   "nbconvert_exporter": "python",
   "pygments_lexer": "ipython3",
   "version": "3.10.12"
  }
 },
 "nbformat": 4,
 "nbformat_minor": 5
}
