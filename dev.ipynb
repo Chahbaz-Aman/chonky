{
 "cells": [
  {
   "cell_type": "markdown",
   "id": "f5acf2f2-5098-47b0-995c-5f333d31e66a",
   "metadata": {},
   "source": [
    "# Chonking for Better DocQnA"
   ]
  },
  {
   "cell_type": "markdown",
   "id": "e2ec7727-8f35-4cbe-9ec5-2fb061dfa35d",
   "metadata": {},
   "source": [
    "## Queries"
   ]
  },
  {
   "cell_type": "markdown",
   "id": "bb3e8a4e-3d22-4882-a5cd-9d32877b0c01",
   "metadata": {},
   "source": [
    "|Query|Expectation|Implementation Detail|\n",
    "|---|---|---|\n",
    "| What information present in an Manufacturer's Manual is actually irrelevant for writing an SOP? | <li> The irrelevant sections can be dropped off </li> <li>If SOP contains ALL of the information in the Manufacturer's Manual then what's the point of rewriting?</li>|Filter Table of Contents & drop irrelevant pages|\n",
    "|How is the procedure in the Manufacturer's Manual different from what's in an SOP? | <li>SOPs have pre-defined tasks that need to be carried out - user specific experiments. </li><li>These tasks require combining the various sub-procedures specified by the manufacturer.</li>|<ol><li>Identify sub-processes</li><li>Store subprocess summaries in metadata</li><li>Prompt LLM with experiment & Subprocess Options</li></ol>"
   ]
  },
  {
   "cell_type": "code",
   "execution_count": 258,
   "id": "09e0a8a9-409b-43c4-a0ef-e5bae6633f99",
   "metadata": {},
   "outputs": [],
   "source": [
    "import fitz\n",
    "import re\n",
    "import pandas as pd\n",
    "import os\n",
    "import shutil\n",
    "from IPython.display import display, HTML\n",
    "from langchain.chat_models import ChatOpenAI\n",
    "from langchain.prompts import ChatPromptTemplate, SystemMessagePromptTemplate, HumanMessagePromptTemplate\n",
    "from langchain.schema.output_parser import StrOutputParser\n",
    "from langchain.utilities import PythonREPL\n",
    "\n",
    "from dotenv import load_dotenv"
   ]
  },
  {
   "cell_type": "code",
   "execution_count": 259,
   "id": "5133ebf0-8561-4dfd-9ee0-6633333ca995",
   "metadata": {},
   "outputs": [
    {
     "data": {
      "text/html": [
       "<div style=\"background-color: lightgreen; color: darkgreen; border-radius: 10px; padding: 10px;\">\n",
       "OpenAI environment loaded successfully\n",
       "</div>\n"
      ],
      "text/plain": [
       "<IPython.core.display.HTML object>"
      ]
     },
     "metadata": {},
     "output_type": "display_data"
    }
   ],
   "source": [
    "if load_dotenv('openai.env'):\n",
    "    bg, tx, msg = \"lightgreen\", \"darkgreen\", \"OpenAI environment loaded successfully\"\n",
    "else:\n",
    "    bg, tx, msg = \"#FFC0CB\", \"#8B0000\", \"Could not find <code>openai.env</code> file.\"\n",
    "display(HTML(f\"\"\"<div style=\"background-color: {bg}; color: {tx}; border-radius: 10px; padding: 10px;\">\n",
    "{msg}\n",
    "</div>\n",
    "\"\"\"))"
   ]
  },
  {
   "cell_type": "code",
   "execution_count": 260,
   "id": "fa96b8a8-db40-4faf-8efb-b9a252fd8c8e",
   "metadata": {},
   "outputs": [],
   "source": [
    "model = ChatOpenAI()"
   ]
  },
  {
   "cell_type": "code",
   "execution_count": 86,
   "id": "2211d144-e16a-4136-902c-63f5caccac6e",
   "metadata": {},
   "outputs": [],
   "source": [
    "doc = fitz.open(\"data/Akta_Pure_User_Manual.PDF\")"
   ]
  },
  {
   "cell_type": "code",
   "execution_count": 87,
   "id": "cf529919-fba9-4c46-8e01-13896c83bae1",
   "metadata": {},
   "outputs": [],
   "source": [
    "pages = []\n",
    "for page in doc.pages(start = 1, stop = 10):\n",
    "    pages.append(page)"
   ]
  },
  {
   "cell_type": "markdown",
   "id": "2ea16b7b-625a-447f-a223-ea81fc7c47cb",
   "metadata": {
    "jp-MarkdownHeadingCollapsed": true
   },
   "source": [
    "## Extract Table of Contents"
   ]
  },
  {
   "cell_type": "code",
   "execution_count": 382,
   "id": "a333fdd6-5016-4375-858f-7e28b78e3bce",
   "metadata": {},
   "outputs": [
    {
     "data": {
      "text/html": [
       "<div>\n",
       "<style scoped>\n",
       "    .dataframe tbody tr th:only-of-type {\n",
       "        vertical-align: middle;\n",
       "    }\n",
       "\n",
       "    .dataframe tbody tr th {\n",
       "        vertical-align: top;\n",
       "    }\n",
       "\n",
       "    .dataframe thead th {\n",
       "        text-align: right;\n",
       "    }\n",
       "</style>\n",
       "<table border=\"1\" class=\"dataframe\">\n",
       "  <thead>\n",
       "    <tr style=\"text-align: right;\">\n",
       "      <th></th>\n",
       "      <th>Index</th>\n",
       "      <th>Heading</th>\n",
       "    </tr>\n",
       "  </thead>\n",
       "  <tbody>\n",
       "    <tr>\n",
       "      <th>0</th>\n",
       "      <td>1</td>\n",
       "      <td>Introduction</td>\n",
       "    </tr>\n",
       "    <tr>\n",
       "      <th>1</th>\n",
       "      <td>1.1</td>\n",
       "      <td>Important user information</td>\n",
       "    </tr>\n",
       "    <tr>\n",
       "      <th>2</th>\n",
       "      <td>1.2</td>\n",
       "      <td>ÄKTA pure overview</td>\n",
       "    </tr>\n",
       "    <tr>\n",
       "      <th>3</th>\n",
       "      <td>1.3</td>\n",
       "      <td>ÄKTA pure user documentation</td>\n",
       "    </tr>\n",
       "    <tr>\n",
       "      <th>4</th>\n",
       "      <td>2</td>\n",
       "      <td>The ÄKTA pure instrument</td>\n",
       "    </tr>\n",
       "  </tbody>\n",
       "</table>\n",
       "</div>"
      ],
      "text/plain": [
       "  Index                        Heading\n",
       "0     1                  Introduction \n",
       "1   1.1    Important user information \n",
       "2   1.2            ÄKTA pure overview \n",
       "3   1.3  ÄKTA pure user documentation \n",
       "4     2      The ÄKTA pure instrument "
      ]
     },
     "execution_count": 382,
     "metadata": {},
     "output_type": "execute_result"
    }
   ],
   "source": [
    "contents_text = pages[0].get_text()\n",
    "pattern = r'(\\d+(\\.\\d+)*)\\s+(.*?)\\s+(\\d+)'\n",
    "matches = re.findall(pattern, contents_text)\n",
    "table_of_contents = []\n",
    "for match in matches:\n",
    "    number = match[0]\n",
    "    heading = re.sub('\\.{2,}', '', match[2])\n",
    "    page_number = match[3]\n",
    "    table_of_contents.append({\"Index\": number, \"Heading\": heading})\n",
    "\n",
    "table_of_contents = pd.DataFrame(table_of_contents)\n",
    "table_of_contents.head()"
   ]
  },
  {
   "cell_type": "markdown",
   "id": "05a835be-bdfa-4f36-b884-3426fd856333",
   "metadata": {},
   "source": [
    "Easy Alternative!"
   ]
  },
  {
   "cell_type": "code",
   "execution_count": 383,
   "id": "98747071-37e8-462e-86a2-a2d2ac7b5055",
   "metadata": {},
   "outputs": [
    {
     "data": {
      "text/html": [
       "<div>\n",
       "<style scoped>\n",
       "    .dataframe tbody tr th:only-of-type {\n",
       "        vertical-align: middle;\n",
       "    }\n",
       "\n",
       "    .dataframe tbody tr th {\n",
       "        vertical-align: top;\n",
       "    }\n",
       "\n",
       "    .dataframe thead th {\n",
       "        text-align: right;\n",
       "    }\n",
       "</style>\n",
       "<table border=\"1\" class=\"dataframe\">\n",
       "  <thead>\n",
       "    <tr style=\"text-align: right;\">\n",
       "      <th></th>\n",
       "      <th>Level</th>\n",
       "      <th>Title</th>\n",
       "      <th>Page Number</th>\n",
       "    </tr>\n",
       "  </thead>\n",
       "  <tbody>\n",
       "    <tr>\n",
       "      <th>0</th>\n",
       "      <td>1</td>\n",
       "      <td>Coverpage</td>\n",
       "      <td>1</td>\n",
       "    </tr>\n",
       "    <tr>\n",
       "      <th>1</th>\n",
       "      <td>1</td>\n",
       "      <td>Table of Contents</td>\n",
       "      <td>2</td>\n",
       "    </tr>\n",
       "    <tr>\n",
       "      <th>2</th>\n",
       "      <td>1</td>\n",
       "      <td>1  Introduction</td>\n",
       "      <td>6</td>\n",
       "    </tr>\n",
       "    <tr>\n",
       "      <th>3</th>\n",
       "      <td>2</td>\n",
       "      <td>1.1  Important user information</td>\n",
       "      <td>7</td>\n",
       "    </tr>\n",
       "    <tr>\n",
       "      <th>4</th>\n",
       "      <td>2</td>\n",
       "      <td>1.2  ÄKTA pure overview</td>\n",
       "      <td>9</td>\n",
       "    </tr>\n",
       "  </tbody>\n",
       "</table>\n",
       "</div>"
      ],
      "text/plain": [
       "   Level                            Title  Page Number\n",
       "0      1                        Coverpage            1\n",
       "1      1                Table of Contents            2\n",
       "2      1                  1  Introduction            6\n",
       "3      2  1.1  Important user information            7\n",
       "4      2          1.2  ÄKTA pure overview            9"
      ]
     },
     "execution_count": 383,
     "metadata": {},
     "output_type": "execute_result"
    }
   ],
   "source": [
    "table_of_contents = doc.get_toc()\n",
    "table_of_contents = pd.DataFrame(table_of_contents, columns = ['Level', 'Title', 'Page Number'])\n",
    "table_of_contents.head()"
   ]
  },
  {
   "cell_type": "code",
   "execution_count": 387,
   "id": "b51fe6f7-3cd7-489c-b050-e96565e434fe",
   "metadata": {},
   "outputs": [],
   "source": [
    "table_of_contents['End Page'] = table_of_contents['Page Number'].shift(-1) - 1"
   ]
  },
  {
   "cell_type": "code",
   "execution_count": 414,
   "id": "4506eea5-5d18-47ed-9e54-6d7fd498fc5f",
   "metadata": {},
   "outputs": [],
   "source": [
    "level_wise_ends = []\n",
    "max_level = table_of_contents.Level.max()\n",
    "for level in range(2, max_level+2):\n",
    "    level_wise_ends.append(table_of_contents[table_of_contents.Level.apply(lambda l: l < level)]['Page Number'].shift(-1) - 1)"
   ]
  },
  {
   "cell_type": "code",
   "execution_count": 419,
   "id": "8cbd0516-d244-4ede-b413-ffc8e407da93",
   "metadata": {},
   "outputs": [],
   "source": [
    "section_end_pages = pd.Series(dtype='float')\n",
    "for series in level_wise_ends:\n",
    "    section_end_pages = section_end_pages.combine_first(series)"
   ]
  },
  {
   "cell_type": "code",
   "execution_count": 420,
   "id": "1db87f9d-38b0-4b78-bafe-93109ab3305c",
   "metadata": {},
   "outputs": [],
   "source": [
    "table_of_contents['End Page'] = section_end_pages"
   ]
  },
  {
   "cell_type": "code",
   "execution_count": 421,
   "id": "2879ec54-8022-48ea-a6f9-099a85259389",
   "metadata": {},
   "outputs": [
    {
     "data": {
      "text/html": [
       "<div>\n",
       "<style scoped>\n",
       "    .dataframe tbody tr th:only-of-type {\n",
       "        vertical-align: middle;\n",
       "    }\n",
       "\n",
       "    .dataframe tbody tr th {\n",
       "        vertical-align: top;\n",
       "    }\n",
       "\n",
       "    .dataframe thead th {\n",
       "        text-align: right;\n",
       "    }\n",
       "</style>\n",
       "<table border=\"1\" class=\"dataframe\">\n",
       "  <thead>\n",
       "    <tr style=\"text-align: right;\">\n",
       "      <th></th>\n",
       "      <th>Level</th>\n",
       "      <th>Title</th>\n",
       "      <th>Page Number</th>\n",
       "      <th>End Page</th>\n",
       "    </tr>\n",
       "  </thead>\n",
       "  <tbody>\n",
       "    <tr>\n",
       "      <th>0</th>\n",
       "      <td>1</td>\n",
       "      <td>Coverpage</td>\n",
       "      <td>1</td>\n",
       "      <td>1.0</td>\n",
       "    </tr>\n",
       "    <tr>\n",
       "      <th>1</th>\n",
       "      <td>1</td>\n",
       "      <td>Table of Contents</td>\n",
       "      <td>2</td>\n",
       "      <td>5.0</td>\n",
       "    </tr>\n",
       "    <tr>\n",
       "      <th>2</th>\n",
       "      <td>1</td>\n",
       "      <td>1  Introduction</td>\n",
       "      <td>6</td>\n",
       "      <td>12.0</td>\n",
       "    </tr>\n",
       "    <tr>\n",
       "      <th>3</th>\n",
       "      <td>2</td>\n",
       "      <td>1.1  Important user information</td>\n",
       "      <td>7</td>\n",
       "      <td>8.0</td>\n",
       "    </tr>\n",
       "    <tr>\n",
       "      <th>4</th>\n",
       "      <td>2</td>\n",
       "      <td>1.2  ÄKTA pure overview</td>\n",
       "      <td>9</td>\n",
       "      <td>10.0</td>\n",
       "    </tr>\n",
       "    <tr>\n",
       "      <th>5</th>\n",
       "      <td>2</td>\n",
       "      <td>1.3  ÄKTA pure user documentation</td>\n",
       "      <td>11</td>\n",
       "      <td>12.0</td>\n",
       "    </tr>\n",
       "    <tr>\n",
       "      <th>6</th>\n",
       "      <td>1</td>\n",
       "      <td>2  The ÄKTA pure instrument</td>\n",
       "      <td>13</td>\n",
       "      <td>85.0</td>\n",
       "    </tr>\n",
       "    <tr>\n",
       "      <th>7</th>\n",
       "      <td>2</td>\n",
       "      <td>2.1  Overview illustrations</td>\n",
       "      <td>14</td>\n",
       "      <td>24.0</td>\n",
       "    </tr>\n",
       "    <tr>\n",
       "      <th>8</th>\n",
       "      <td>2</td>\n",
       "      <td>2.2  Liquid flow path</td>\n",
       "      <td>25</td>\n",
       "      <td>26.0</td>\n",
       "    </tr>\n",
       "    <tr>\n",
       "      <th>9</th>\n",
       "      <td>2</td>\n",
       "      <td>2.3  Instrument control panel</td>\n",
       "      <td>27</td>\n",
       "      <td>31.0</td>\n",
       "    </tr>\n",
       "    <tr>\n",
       "      <th>10</th>\n",
       "      <td>2</td>\n",
       "      <td>2.4  Instrument modules</td>\n",
       "      <td>32</td>\n",
       "      <td>75.0</td>\n",
       "    </tr>\n",
       "    <tr>\n",
       "      <th>11</th>\n",
       "      <td>3</td>\n",
       "      <td>2.4.1  System pumps</td>\n",
       "      <td>33</td>\n",
       "      <td>36.0</td>\n",
       "    </tr>\n",
       "    <tr>\n",
       "      <th>12</th>\n",
       "      <td>3</td>\n",
       "      <td>2.4.2  Mixer</td>\n",
       "      <td>37</td>\n",
       "      <td>37.0</td>\n",
       "    </tr>\n",
       "    <tr>\n",
       "      <th>13</th>\n",
       "      <td>3</td>\n",
       "      <td>2.4.3  Valves, overview</td>\n",
       "      <td>38</td>\n",
       "      <td>38.0</td>\n",
       "    </tr>\n",
       "    <tr>\n",
       "      <th>14</th>\n",
       "      <td>3</td>\n",
       "      <td>2.4.4  Inlet valves</td>\n",
       "      <td>39</td>\n",
       "      <td>45.0</td>\n",
       "    </tr>\n",
       "    <tr>\n",
       "      <th>15</th>\n",
       "      <td>3</td>\n",
       "      <td>2.4.5  Mixer valve</td>\n",
       "      <td>46</td>\n",
       "      <td>48.0</td>\n",
       "    </tr>\n",
       "    <tr>\n",
       "      <th>16</th>\n",
       "      <td>3</td>\n",
       "      <td>2.4.6  Injection valve</td>\n",
       "      <td>49</td>\n",
       "      <td>51.0</td>\n",
       "    </tr>\n",
       "    <tr>\n",
       "      <th>17</th>\n",
       "      <td>3</td>\n",
       "      <td>2.4.7  Loop valve</td>\n",
       "      <td>52</td>\n",
       "      <td>54.0</td>\n",
       "    </tr>\n",
       "    <tr>\n",
       "      <th>18</th>\n",
       "      <td>3</td>\n",
       "      <td>2.4.8  Column valves</td>\n",
       "      <td>55</td>\n",
       "      <td>58.0</td>\n",
       "    </tr>\n",
       "    <tr>\n",
       "      <th>19</th>\n",
       "      <td>3</td>\n",
       "      <td>2.4.9  Versatile valve</td>\n",
       "      <td>59</td>\n",
       "      <td>59.0</td>\n",
       "    </tr>\n",
       "    <tr>\n",
       "      <th>20</th>\n",
       "      <td>3</td>\n",
       "      <td>2.4.10  pH valve</td>\n",
       "      <td>60</td>\n",
       "      <td>63.0</td>\n",
       "    </tr>\n",
       "    <tr>\n",
       "      <th>21</th>\n",
       "      <td>3</td>\n",
       "      <td>2.4.11  Outlet valves</td>\n",
       "      <td>64</td>\n",
       "      <td>66.0</td>\n",
       "    </tr>\n",
       "    <tr>\n",
       "      <th>22</th>\n",
       "      <td>3</td>\n",
       "      <td>2.4.12  Pressure monitors</td>\n",
       "      <td>67</td>\n",
       "      <td>68.0</td>\n",
       "    </tr>\n",
       "    <tr>\n",
       "      <th>23</th>\n",
       "      <td>3</td>\n",
       "      <td>2.4.13  UV monitors</td>\n",
       "      <td>69</td>\n",
       "      <td>71.0</td>\n",
       "    </tr>\n",
       "    <tr>\n",
       "      <th>24</th>\n",
       "      <td>3</td>\n",
       "      <td>2.4.14  Conductivity monitor</td>\n",
       "      <td>72</td>\n",
       "      <td>73.0</td>\n",
       "    </tr>\n",
       "    <tr>\n",
       "      <th>25</th>\n",
       "      <td>3</td>\n",
       "      <td>2.4.15  Flow restrictor</td>\n",
       "      <td>74</td>\n",
       "      <td>75.0</td>\n",
       "    </tr>\n",
       "    <tr>\n",
       "      <th>26</th>\n",
       "      <td>2</td>\n",
       "      <td>2.5  Installation of internal modules</td>\n",
       "      <td>76</td>\n",
       "      <td>78.0</td>\n",
       "    </tr>\n",
       "    <tr>\n",
       "      <th>27</th>\n",
       "      <td>2</td>\n",
       "      <td>2.6  Accessories</td>\n",
       "      <td>79</td>\n",
       "      <td>85.0</td>\n",
       "    </tr>\n",
       "    <tr>\n",
       "      <th>28</th>\n",
       "      <td>1</td>\n",
       "      <td>3  ÄKTA pure external modules</td>\n",
       "      <td>86</td>\n",
       "      <td>122.0</td>\n",
       "    </tr>\n",
       "    <tr>\n",
       "      <th>29</th>\n",
       "      <td>2</td>\n",
       "      <td>3.1  External air sensors</td>\n",
       "      <td>87</td>\n",
       "      <td>88.0</td>\n",
       "    </tr>\n",
       "  </tbody>\n",
       "</table>\n",
       "</div>"
      ],
      "text/plain": [
       "    Level                                  Title  Page Number  End Page\n",
       "0       1                              Coverpage            1       1.0\n",
       "1       1                      Table of Contents            2       5.0\n",
       "2       1                        1  Introduction            6      12.0\n",
       "3       2        1.1  Important user information            7       8.0\n",
       "4       2                1.2  ÄKTA pure overview            9      10.0\n",
       "5       2      1.3  ÄKTA pure user documentation           11      12.0\n",
       "6       1            2  The ÄKTA pure instrument           13      85.0\n",
       "7       2            2.1  Overview illustrations           14      24.0\n",
       "8       2                  2.2  Liquid flow path           25      26.0\n",
       "9       2          2.3  Instrument control panel           27      31.0\n",
       "10      2                2.4  Instrument modules           32      75.0\n",
       "11      3                    2.4.1  System pumps           33      36.0\n",
       "12      3                           2.4.2  Mixer           37      37.0\n",
       "13      3                2.4.3  Valves, overview           38      38.0\n",
       "14      3                    2.4.4  Inlet valves           39      45.0\n",
       "15      3                     2.4.5  Mixer valve           46      48.0\n",
       "16      3                 2.4.6  Injection valve           49      51.0\n",
       "17      3                      2.4.7  Loop valve           52      54.0\n",
       "18      3                   2.4.8  Column valves           55      58.0\n",
       "19      3                 2.4.9  Versatile valve           59      59.0\n",
       "20      3                       2.4.10  pH valve           60      63.0\n",
       "21      3                  2.4.11  Outlet valves           64      66.0\n",
       "22      3              2.4.12  Pressure monitors           67      68.0\n",
       "23      3                    2.4.13  UV monitors           69      71.0\n",
       "24      3           2.4.14  Conductivity monitor           72      73.0\n",
       "25      3                2.4.15  Flow restrictor           74      75.0\n",
       "26      2  2.5  Installation of internal modules           76      78.0\n",
       "27      2                       2.6  Accessories           79      85.0\n",
       "28      1          3  ÄKTA pure external modules           86     122.0\n",
       "29      2              3.1  External air sensors           87      88.0"
      ]
     },
     "execution_count": 421,
     "metadata": {},
     "output_type": "execute_result"
    }
   ],
   "source": [
    "table_of_contents.head(30)"
   ]
  },
  {
   "cell_type": "code",
   "execution_count": null,
   "id": "78dedefa-21bb-453f-bd76-fc33b465c510",
   "metadata": {},
   "outputs": [],
   "source": []
  },
  {
   "cell_type": "code",
   "execution_count": null,
   "id": "2099f649-55a4-403b-8557-57c39518b37d",
   "metadata": {},
   "outputs": [],
   "source": []
  },
  {
   "cell_type": "markdown",
   "id": "724fb5e2-04a6-4606-91e0-a8bb229c6866",
   "metadata": {
    "jp-MarkdownHeadingCollapsed": true
   },
   "source": [
    "## Extract Images"
   ]
  },
  {
   "cell_type": "code",
   "execution_count": 60,
   "id": "2ff08dca-ff9b-41ac-8772-a4f359abd7e7",
   "metadata": {},
   "outputs": [],
   "source": [
    "IMG_DIR = 'images'\n",
    "os.makedirs(IMG_DIR, exist_ok=True)"
   ]
  },
  {
   "cell_type": "code",
   "execution_count": 61,
   "id": "939912a0-9973-47c1-8d0b-70958e847890",
   "metadata": {},
   "outputs": [
    {
     "name": "stdout",
     "output_type": "stream",
     "text": [
      "Found 732 images. Saved all under images/\n"
     ]
    }
   ],
   "source": [
    "for page_index in range(len(doc)):\n",
    "\tpage = doc[page_index]\n",
    "\timage_list = page.get_images()\n",
    "\n",
    "\tfor image_index, img in enumerate(image_list, start=1):\n",
    "\t\txref = img[0]\n",
    "\t\tpix = fitz.Pixmap(doc, xref)\n",
    "\n",
    "\t\tif pix.n - pix.alpha > 3:\n",
    "\t\t\tpix = fitz.Pixmap(fitz.csRGB, pix)\n",
    "\n",
    "\t\tpix.save(f\"{IMG_DIR}/page_{page_index}-image_{image_index}.png\")\n",
    "\t\tpix = None\n",
    "print(f\"Found {len(os.listdir(IMG_DIR))} images. Saved all under {IMG_DIR}/\")"
   ]
  },
  {
   "cell_type": "markdown",
   "id": "db4918cb-0790-4b87-bca3-a0dc8138c1b8",
   "metadata": {
    "jp-MarkdownHeadingCollapsed": true
   },
   "source": [
    "## Extract Tables"
   ]
  },
  {
   "cell_type": "code",
   "execution_count": 116,
   "id": "a228d231-0688-4bd7-b5a2-f5d18a66c959",
   "metadata": {},
   "outputs": [
    {
     "name": "stdout",
     "output_type": "stream",
     "text": [
      "Main functions\n",
      "Module\n",
      "Create and edit methods using one or a combination of:\n",
      "Method Editor\n",
      "•\n",
      "Predefined methods with built-in application support\n",
      "•\n",
      "Drag-and-drop function to build methods with relevan\n",
      "\n",
      " --------------------------------------------------\n",
      "1 tables found on page 9 of data/Akta_Pure_User_Manual.PDF\n",
      " --------------------------------------------------\n"
     ]
    },
    {
     "data": {
      "text/html": [
       "<div>\n",
       "<style scoped>\n",
       "    .dataframe tbody tr th:only-of-type {\n",
       "        vertical-align: middle;\n",
       "    }\n",
       "\n",
       "    .dataframe tbody tr th {\n",
       "        vertical-align: top;\n",
       "    }\n",
       "\n",
       "    .dataframe thead th {\n",
       "        text-align: right;\n",
       "    }\n",
       "</style>\n",
       "<table border=\"1\" class=\"dataframe\">\n",
       "  <thead>\n",
       "    <tr style=\"text-align: right;\">\n",
       "      <th></th>\n",
       "      <th>Module</th>\n",
       "      <th>Main functions</th>\n",
       "    </tr>\n",
       "  </thead>\n",
       "  <tbody>\n",
       "    <tr>\n",
       "      <th>0</th>\n",
       "      <td>Method Editor</td>\n",
       "      <td>Create and edit methods using one or a combina...</td>\n",
       "    </tr>\n",
       "    <tr>\n",
       "      <th>1</th>\n",
       "      <td>System Control</td>\n",
       "      <td>Start, monitor and control runs. The current f...</td>\n",
       "    </tr>\n",
       "    <tr>\n",
       "      <th>2</th>\n",
       "      <td>Evaluation</td>\n",
       "      <td>Open results, evaluate runs and create reports...</td>\n",
       "    </tr>\n",
       "    <tr>\n",
       "      <th>3</th>\n",
       "      <td></td>\n",
       "      <td></td>\n",
       "    </tr>\n",
       "  </tbody>\n",
       "</table>\n",
       "</div>"
      ],
      "text/plain": [
       "           Module                                     Main functions\n",
       "0   Method Editor  Create and edit methods using one or a combina...\n",
       "1  System Control  Start, monitor and control runs. The current f...\n",
       "2      Evaluation  Open results, evaluate runs and create reports...\n",
       "3                                                                   "
      ]
     },
     "execution_count": 116,
     "metadata": {},
     "output_type": "execute_result"
    }
   ],
   "source": [
    "from pprint import pprint\n",
    "\n",
    "page = doc[9]\n",
    "print(page.get_text()[0:200])\n",
    "print('\\n','-'*50)\n",
    "\n",
    "tabs = page.find_tables()\n",
    "print(f\"{len(tabs.tables)} tables found on {page}\\n\", '-'*50)\n",
    "pd.DataFrame(tabs[0].extract()[1:], columns = tabs[0].extract()[0])"
   ]
  },
  {
   "cell_type": "code",
   "execution_count": 153,
   "id": "dd6a6862-84a9-4445-bf81-c3de7f877300",
   "metadata": {},
   "outputs": [],
   "source": [
    "TABLE_DIR = 'tables'\n",
    "os.makedirs(TABLE_DIR, exist_ok=True)\n",
    "os.makedirs(os.path.join(TABLE_DIR, '.temp'), exist_ok=True)"
   ]
  },
  {
   "cell_type": "code",
   "execution_count": 154,
   "id": "a14642c8-7efc-4856-bb31-c945f7bfa87d",
   "metadata": {},
   "outputs": [],
   "source": [
    "def extract_and_save_tables(doc, output_directory = os.path.join(TABLE_DIR, '.temp')): \n",
    "    count = 0\n",
    "    for page_num in range(doc.page_count):\n",
    "        page = doc[page_num]\n",
    "        tabs = page.find_tables()\n",
    "        if len(tabs.tables) > 0:\n",
    "            for idx, tab in enumerate(tabs):\n",
    "                table_data = tab.extract()\n",
    "                header, *rows = table_data\n",
    "    \n",
    "                # Convert table data to DataFrame\n",
    "                df = pd.DataFrame(rows, columns=header)\n",
    "    \n",
    "                # Save DataFrame as CSV\n",
    "                table_filename = f\"table_page_{page_num + 1}_idx_{idx + 1}.csv\"\n",
    "                table_path = os.path.join(output_directory, table_filename)\n",
    "                if df.shape[0]>0:\n",
    "                    df.to_csv(table_path, index=False)\n",
    "                    count+=1\n",
    "    print(f\"Saved {count} tables\")"
   ]
  },
  {
   "cell_type": "code",
   "execution_count": 158,
   "id": "8993de38-2676-4ee7-a141-90f0b66a7cdc",
   "metadata": {},
   "outputs": [],
   "source": [
    "def merge_and_save_tables(output_directory):\n",
    "    input_directory = os.path.join(output_directory, '.temp')\n",
    "    table_files = sorted(os.listdir(input_directory))\n",
    "    queue = []\n",
    "\n",
    "    for table_file in table_files:\n",
    "        table_path = os.path.join(input_directory, table_file)\n",
    "        df = pd.read_csv(table_path)\n",
    "\n",
    "        try: \n",
    "            assert (not queue or all(df.columns == queue[0].columns))\n",
    "            queue.append(df)\n",
    "        except:\n",
    "            merged_table = pd.concat(queue, ignore_index=True)\n",
    "            merged_filename = f\"merged_{table_file}\"\n",
    "            merged_table_path = os.path.join(output_directory, merged_filename)\n",
    "            merged_table.to_csv(merged_table_path, index=False)\n",
    "\n",
    "            queue = [df]\n",
    "\n",
    "    if queue:\n",
    "        merged_table = pd.concat(queue, ignore_index=True)\n",
    "        merged_filename = f\"merged_last_{table_file}\"\n",
    "        merged_table_path = os.path.join(output_directory, merged_filename)\n",
    "        merged_table.to_csv(merged_table_path, index=False)\n",
    "\n",
    "    shutil.rmtree(input_directory)\n",
    "    print(f\"{len(os.listdir(output_directory))} tables in repository after merging\")"
   ]
  },
  {
   "cell_type": "code",
   "execution_count": 156,
   "id": "e563d289-0fca-4911-b403-9f658cfdefb6",
   "metadata": {},
   "outputs": [
    {
     "name": "stdout",
     "output_type": "stream",
     "text": [
      "Saved 402 tables\n"
     ]
    }
   ],
   "source": [
    "extract_and_save_tables(doc)"
   ]
  },
  {
   "cell_type": "code",
   "execution_count": 159,
   "id": "b6c09d10-a79e-465f-b251-c5bec0571729",
   "metadata": {},
   "outputs": [
    {
     "name": "stdout",
     "output_type": "stream",
     "text": [
      "180 tables in repository after merging\n"
     ]
    }
   ],
   "source": [
    "merge_and_save_tables(TABLE_DIR)"
   ]
  },
  {
   "cell_type": "markdown",
   "id": "ef0d71e4-4932-4200-9e9d-c293dcd6b2f2",
   "metadata": {},
   "source": [
    "## Extract Text"
   ]
  },
  {
   "cell_type": "markdown",
   "id": "cd907703-51b7-4193-849c-a2023ff12efa",
   "metadata": {},
   "source": [
    "### Identify relevant pages"
   ]
  },
  {
   "cell_type": "code",
   "execution_count": 292,
   "id": "b1cb9c01-27a2-4699-86ec-3b22b124eaf1",
   "metadata": {},
   "outputs": [],
   "source": [
    "prompt = f'''\n",
    "Below is the table of contents for my document:\n",
    "```\n",
    "{table_of_contents[table_of_contents.Level.apply(lambda l: l<3)]['Title'].to_markdown(index = False)}\n",
    "```\n",
    "I want to only keep the actual useful content for further processing.\n",
    "Most documents have useless sections at the beginning and at the end like covers, index, contents, preface, acknowledgements, promotions, catalogs, appendix etc.\n",
    "The useless contents are usually at the beginning and at the end of the document.\n",
    "Can you return the list of such useless titles in the contents I provided that I can drop off? \n",
    "Only respond with a comma separated list of Titles. Don't write anything else.\n",
    "'''"
   ]
  },
  {
   "cell_type": "code",
   "execution_count": 303,
   "id": "e6c42f80-2240-43e9-9c6b-46ade08d5ab3",
   "metadata": {},
   "outputs": [],
   "source": [
    "#response = model.predict(prompt) # commented out to avoid un-necessary API calls"
   ]
  },
  {
   "cell_type": "markdown",
   "id": "ad833b6d-03df-4209-b0ef-a8dbd56608a2",
   "metadata": {},
   "source": [
    "response: 'Coverpage, Table of Contents, Index'"
   ]
  },
  {
   "cell_type": "code",
   "execution_count": 297,
   "id": "dcc7398d-d254-4ad0-9be8-c50f5768cb0e",
   "metadata": {},
   "outputs": [],
   "source": [
    "titles_to_drop = list(map(lambda s: s.strip(), response.split(',')))"
   ]
  },
  {
   "cell_type": "code",
   "execution_count": 304,
   "id": "fdcd9466-0e32-4364-a4ed-ef5ce74089be",
   "metadata": {},
   "outputs": [
    {
     "name": "stdout",
     "output_type": "stream",
     "text": [
      "Range of useful pages: 6 - 512.0\n"
     ]
    }
   ],
   "source": [
    "filtered_table_of_contents = table_of_contents[~table_of_contents['Title'].isin(titles_to_drop)]\n",
    "\n",
    "start_page = filtered_table_of_contents['Page Number'].iloc[0]\n",
    "end_page = filtered_table_of_contents['End Page'].iloc[-1]\n",
    "\n",
    "print(f\"Range of useful pages: {start_page} - {end_page}\")"
   ]
  },
  {
   "cell_type": "markdown",
   "id": "0649954a-11e3-4a13-bd41-3aba2bdb4a9a",
   "metadata": {},
   "source": [
    "### Extract text bodies"
   ]
  },
  {
   "cell_type": "markdown",
   "id": "e24b03f6-bb71-4699-833d-1a5b2227e6b4",
   "metadata": {},
   "source": [
    "Since all pages have headers and footers, we need to have an additional step in the front end where the user gets to select the area of the pages where relevant text is available for clean extraction.<br>\n",
    "For dev purposes, the bounding box is hard coded by skipping 10% of page height from the top margin and 5% of page height from the bottom margin."
   ]
  },
  {
   "cell_type": "code",
   "execution_count": 373,
   "id": "63d8ee42-22be-4fe3-a0d3-84df216e6eee",
   "metadata": {},
   "outputs": [],
   "source": [
    "page_bbox = doc[0].bound()"
   ]
  },
  {
   "cell_type": "code",
   "execution_count": 374,
   "id": "284306f7-d9bf-4eb2-9702-d3bbe4e01616",
   "metadata": {},
   "outputs": [],
   "source": [
    "page_height = page_bbox.height\n",
    "page_width = page_bbox.width"
   ]
  },
  {
   "cell_type": "code",
   "execution_count": 375,
   "id": "50914b30-7260-4d4a-a455-8ae82a742e16",
   "metadata": {},
   "outputs": [],
   "source": [
    "x0, y0, x1, y1 = page_bbox"
   ]
  },
  {
   "cell_type": "code",
   "execution_count": 376,
   "id": "48c98de0-558f-4d9e-a151-ea9277897e4f",
   "metadata": {},
   "outputs": [],
   "source": [
    "page_without_header_footer = fitz.Rect(x0, y0+0.1*page_height, x1, y1-0.05*page_height)"
   ]
  },
  {
   "cell_type": "code",
   "execution_count": 377,
   "id": "f9c75b81-b0cf-4bac-98a7-c57da29d25a5",
   "metadata": {},
   "outputs": [],
   "source": [
    "page = doc[236]"
   ]
  },
  {
   "cell_type": "code",
   "execution_count": 378,
   "id": "2a398431-0960-4b85-8eea-1796360cb187",
   "metadata": {},
   "outputs": [
    {
     "name": "stdout",
     "output_type": "stream",
     "text": [
      "ÄKTA pure User Manual 29119969 AC\n",
      "237\n",
      "6 Performance tests\n",
      "6.6 Fraction collector F9-C test\n",
      "\n"
     ]
    }
   ],
   "source": [
    "fulltext = page.get_text()\n",
    "filteredtext = page.get_text(clip = page_without_header_footer)\n",
    "print(fulltext.replace(filteredtext, ''))"
   ]
  },
  {
   "cell_type": "markdown",
   "id": "23d8a5b4-ad04-4add-89bc-bdde69105bf3",
   "metadata": {},
   "source": [
    "Above is a quick test that the bounding box defined is indeed able to filter out the headers and footers."
   ]
  },
  {
   "cell_type": "code",
   "execution_count": 379,
   "id": "2dc3782c-bf05-4c0d-ad27-49c39f207efa",
   "metadata": {},
   "outputs": [],
   "source": [
    "def extract_text_bodies(start_page: int, end_page: int = None, page_bbox: fitz.Rect = page_without_header_footer, doc: fitz.Document = doc):\n",
    "    all_text_outside_tables = []\n",
    "\n",
    "    for page_num in range(start_page, (start_page if end_page is None else end_page)+1):\n",
    "        page = doc[page_num]\n",
    "        all_text = page.get_text(\"text\", clip = page_bbox)\n",
    "        table_texts = []\n",
    "    \n",
    "        for table in page.find_tables():\n",
    "            table_bbox = table.bbox\n",
    "            table_text = page.get_textbox(table_bbox)\n",
    "            table_texts.append(table_text)\n",
    "    \n",
    "        for table_text in table_texts:\n",
    "            all_text = all_text.replace(table_text, '')\n",
    "    \n",
    "        all_text_outside_tables.append(all_text)\n",
    "    \n",
    "    return '\\n'.join(all_text_outside_tables)"
   ]
  },
  {
   "cell_type": "code",
   "execution_count": 422,
   "id": "1b6f1e26-cb77-49b7-985e-02eea6acd35f",
   "metadata": {},
   "outputs": [
    {
     "data": {
      "text/html": [
       "<div>\n",
       "<style scoped>\n",
       "    .dataframe tbody tr th:only-of-type {\n",
       "        vertical-align: middle;\n",
       "    }\n",
       "\n",
       "    .dataframe tbody tr th {\n",
       "        vertical-align: top;\n",
       "    }\n",
       "\n",
       "    .dataframe thead th {\n",
       "        text-align: right;\n",
       "    }\n",
       "</style>\n",
       "<table border=\"1\" class=\"dataframe\">\n",
       "  <thead>\n",
       "    <tr style=\"text-align: right;\">\n",
       "      <th></th>\n",
       "      <th>Level</th>\n",
       "      <th>Title</th>\n",
       "      <th>Page Number</th>\n",
       "      <th>End Page</th>\n",
       "    </tr>\n",
       "  </thead>\n",
       "  <tbody>\n",
       "    <tr>\n",
       "      <th>0</th>\n",
       "      <td>1</td>\n",
       "      <td>Coverpage</td>\n",
       "      <td>1</td>\n",
       "      <td>1.0</td>\n",
       "    </tr>\n",
       "    <tr>\n",
       "      <th>1</th>\n",
       "      <td>1</td>\n",
       "      <td>Table of Contents</td>\n",
       "      <td>2</td>\n",
       "      <td>5.0</td>\n",
       "    </tr>\n",
       "    <tr>\n",
       "      <th>2</th>\n",
       "      <td>1</td>\n",
       "      <td>1  Introduction</td>\n",
       "      <td>6</td>\n",
       "      <td>12.0</td>\n",
       "    </tr>\n",
       "    <tr>\n",
       "      <th>3</th>\n",
       "      <td>2</td>\n",
       "      <td>1.1  Important user information</td>\n",
       "      <td>7</td>\n",
       "      <td>8.0</td>\n",
       "    </tr>\n",
       "    <tr>\n",
       "      <th>4</th>\n",
       "      <td>2</td>\n",
       "      <td>1.2  ÄKTA pure overview</td>\n",
       "      <td>9</td>\n",
       "      <td>10.0</td>\n",
       "    </tr>\n",
       "    <tr>\n",
       "      <th>5</th>\n",
       "      <td>2</td>\n",
       "      <td>1.3  ÄKTA pure user documentation</td>\n",
       "      <td>11</td>\n",
       "      <td>12.0</td>\n",
       "    </tr>\n",
       "    <tr>\n",
       "      <th>6</th>\n",
       "      <td>1</td>\n",
       "      <td>2  The ÄKTA pure instrument</td>\n",
       "      <td>13</td>\n",
       "      <td>85.0</td>\n",
       "    </tr>\n",
       "    <tr>\n",
       "      <th>7</th>\n",
       "      <td>2</td>\n",
       "      <td>2.1  Overview illustrations</td>\n",
       "      <td>14</td>\n",
       "      <td>24.0</td>\n",
       "    </tr>\n",
       "    <tr>\n",
       "      <th>8</th>\n",
       "      <td>2</td>\n",
       "      <td>2.2  Liquid flow path</td>\n",
       "      <td>25</td>\n",
       "      <td>26.0</td>\n",
       "    </tr>\n",
       "    <tr>\n",
       "      <th>9</th>\n",
       "      <td>2</td>\n",
       "      <td>2.3  Instrument control panel</td>\n",
       "      <td>27</td>\n",
       "      <td>31.0</td>\n",
       "    </tr>\n",
       "  </tbody>\n",
       "</table>\n",
       "</div>"
      ],
      "text/plain": [
       "   Level                              Title  Page Number  End Page\n",
       "0      1                          Coverpage            1       1.0\n",
       "1      1                  Table of Contents            2       5.0\n",
       "2      1                    1  Introduction            6      12.0\n",
       "3      2    1.1  Important user information            7       8.0\n",
       "4      2            1.2  ÄKTA pure overview            9      10.0\n",
       "5      2  1.3  ÄKTA pure user documentation           11      12.0\n",
       "6      1        2  The ÄKTA pure instrument           13      85.0\n",
       "7      2        2.1  Overview illustrations           14      24.0\n",
       "8      2              2.2  Liquid flow path           25      26.0\n",
       "9      2      2.3  Instrument control panel           27      31.0"
      ]
     },
     "execution_count": 422,
     "metadata": {},
     "output_type": "execute_result"
    }
   ],
   "source": [
    "table_of_contents.head(10)"
   ]
  },
  {
   "cell_type": "code",
   "execution_count": 381,
   "id": "bea3c3d5-db41-4f5d-811f-2dcb9c5f1af4",
   "metadata": {},
   "outputs": [
    {
     "name": "stdout",
     "output_type": "stream",
     "text": [
      "1.1\n",
      "Important user information\n",
      "Read this before operating\n",
      "ÄKTA pure\n",
      "All users must read the entire ÄKTA pure Operating Instructions before installing, operating, or\n",
      "maintaining the instrument. Always keep the ÄKTA pure Operating Instructions at hand when operating\n",
      "ÄKTA pure.\n",
      "Do not operate ÄKTA pure in any other way than described in the user documentation. If you do, you\n",
      "may be exposed to hazards that can lead to personal injury and you may cause damage to the\n",
      "equipment.\n",
      "Intended use\n",
      "ÄKTA pure is intended for purification of bio-molecules, in particular proteins, for research purposes\n",
      "by trained laboratory staff members in research laboratories.\n",
      "ÄKTA pure shall not be used in any clinical procedures, or for diagnostic purposes.\n",
      "Prerequisites\n",
      "In order to operate the system according to the intended purpose, it is important that:\n",
      "•\n",
      "you have a general understanding of how the computer and the Microsoft® Windows® operating\n",
      "system work.\n",
      "•\n",
      "you understand the concepts of liquid chromatography.\n",
      "•\n",
      "you have read and understood the Safety instructions chapter in ÄKTA pure Operating Instructions.\n",
      "•\n",
      "a user account has been created according to UNICORN™ Administration and Technical Manual.\n",
      "Safety notices\n",
      "This user documentation contains safety notices (WARNING, CAUTION, and NOTICE) concerning the\n",
      "safe use of the product. See definitions below.\n",
      "WARNING\n",
      "WARNING indicates a hazardous situation which, if not avoided, could result in death\n",
      "or serious injury. It is important not to proceed until all stated conditions are met\n",
      "and clearly understood.\n",
      "\n",
      "CAUTION\n",
      "CAUTION indicates a hazardous situation which, if not avoided, could result in minor\n",
      "or moderate injury. It is important not to proceed until all stated conditions are met\n",
      "and clearly understood.\n",
      "NOTICE\n",
      "NOTICE indicates instructions that must be followed to avoid damage to the product\n",
      "or other equipment.\n",
      "Notes and tips\n",
      "A Note is used to indicate information that is important for trouble-free and optimal use of the\n",
      "product.\n",
      "Note:\n",
      "A tip contains useful information that can improve or optimize your procedures.\n",
      "Tip:\n",
      "\n",
      "1.2\n",
      "ÄKTA pure overview\n",
      "Introduction\n",
      "ÄKTA pure is intended for purification of bio-molecules, in particular proteins, for research purposes\n",
      "by trained laboratory staff members in research laboratories.\n",
      "This section gives an overview of the ÄKTA pure instrument and the UNICORN software. For detailed\n",
      "information about UNICORN, see the UNICORN manuals listed in UNICORN user documentation, on\n",
      "page 12. For detailed information about the instrument, see Chapter 2 The ÄKTA pure instrument, on\n",
      "page 13.\n",
      "Main features\n",
      "The main features of ÄKTA pure are listed below.\n",
      "•\n",
      "ÄKTA pure is a flexible system that allows the user to configure both hardware and software to\n",
      "meet many purification needs.\n",
      "•\n",
      "The instrument can be easily extended with additional valves, detectors and fraction collectors.\n",
      "•\n",
      "There are a large number of different hardware modules to choose from. The user can adjust, for\n",
      "example, the number of columns, inlets, outlets and detectors and choose between different ways\n",
      "to apply and collect samples.\n",
      "•\n",
      "Purification and maintenance methods are easily created using predefined methods and method\n",
      "phases. A method phase refers to a specific step/part in the method, such as column wash or elution.\n",
      "Method phases are described in Phase Properties and are displayed graphically in a method outline.\n",
      "This makes methods and phases easy to understand and edit.\n",
      "•\n",
      "ÄKTA pure is controlled by the UNICORN software: a complete package for control, supervision and\n",
      "evaluation of chromatography instruments and purification runs.\n",
      "•\n",
      "UNICORN has different software licence options, such as Design of Experiments (DoE) and Column\n",
      "logbook, to further add user support.\n",
      "UNICORN modules overview\n",
      "UNICORN consists of four modules: Administration, Method Editor, System Control and Evaluation.\n",
      "The main functions of each module are described in the following table.\n",
      "\n",
      "\n",
      "\n",
      "When working with the modules Administration, Method Editor, System Control and Evaluation it is\n",
      "possible to access descriptions of the active window by pressing the F1 key. This can be especially\n",
      "helpful when editing methods\n",
      "\n",
      "1.3\n",
      "ÄKTA pure user documentation\n",
      "Introduction\n",
      "This section describes the user documentation that is delivered with ÄKTA pure.\n",
      "User documentation\n",
      "The user documentation listed in the table below is delivered with ÄKTA pure. It is also available on the\n",
      "user documentation CD.\n",
      "\n",
      "\n",
      "UNICORN user documentation\n",
      "The user documentation listed in the following table is available from the Help menu in UNICORN or\n",
      "from the UNICORN Online Help and Documentation software accessed by pressing the F1 key in any\n",
      "UNICORN module.\n",
      "\n",
      "1\n",
      "Current UNICORN version is added to the title of the manual.\n",
      "Additional literature\n",
      "For practical tips on chromatography, refer to ÄKTA Laboratory-scale: Chromatography Systems Instru-\n",
      "ment Management Handbook (product code 29010831).\n",
      "\n",
      "2\n",
      "The ÄKTA pure instrument\n",
      "About this chapter\n",
      "This chapter provides an overview of the ÄKTA pure instrument. It also describes the internal instrument\n",
      "components and how these are installed in the instrument.\n",
      "In this chapter\n",
      "This chapter contains the following sections:\n",
      "See page\n",
      "Section\n",
      "14\n",
      "2.1 Overview illustrations\n",
      "25\n",
      "2.2 Liquid flow path\n",
      "27\n",
      "2.3 Instrument control panel\n",
      "32\n",
      "2.4 Instrument modules\n",
      "76\n",
      "2.5 Installation of internal modules\n",
      "79\n",
      "2.6 Accessories\n",
      "\n"
     ]
    }
   ],
   "source": [
    "print(extract_text_bodies(6,12))"
   ]
  },
  {
   "cell_type": "code",
   "execution_count": null,
   "id": "954b968b-6c5d-4358-acb9-c49a92449283",
   "metadata": {},
   "outputs": [],
   "source": []
  },
  {
   "cell_type": "code",
   "execution_count": null,
   "id": "6285ee0d-fb3c-4afe-934c-ffe34b88396b",
   "metadata": {},
   "outputs": [],
   "source": []
  },
  {
   "cell_type": "code",
   "execution_count": null,
   "id": "45a27667-8ff5-40dd-9c3e-c9e130e0c2f7",
   "metadata": {},
   "outputs": [],
   "source": []
  },
  {
   "cell_type": "code",
   "execution_count": null,
   "id": "09550044-6f7d-4745-9a6f-5379cbfac11c",
   "metadata": {},
   "outputs": [],
   "source": []
  },
  {
   "cell_type": "markdown",
   "id": "e5675ec3-f324-489f-a7b4-237835e0705d",
   "metadata": {},
   "source": [
    "## What Next?"
   ]
  },
  {
   "cell_type": "code",
   "execution_count": null,
   "id": "7e8b7c74-ba53-49c1-aade-a313d156f44e",
   "metadata": {},
   "outputs": [],
   "source": []
  },
  {
   "cell_type": "code",
   "execution_count": null,
   "id": "5cf90bb4-6010-4167-94a3-7b967b93f201",
   "metadata": {},
   "outputs": [],
   "source": []
  },
  {
   "cell_type": "code",
   "execution_count": null,
   "id": "f3f98fb1-3cb5-465c-879b-775ab748c2b3",
   "metadata": {},
   "outputs": [],
   "source": []
  },
  {
   "cell_type": "code",
   "execution_count": null,
   "id": "e967122b-68cc-4625-89c4-89d064969d4b",
   "metadata": {},
   "outputs": [],
   "source": []
  }
 ],
 "metadata": {
  "kernelspec": {
   "display_name": "Python 3 (ipykernel)",
   "language": "python",
   "name": "python3"
  },
  "language_info": {
   "codemirror_mode": {
    "name": "ipython",
    "version": 3
   },
   "file_extension": ".py",
   "mimetype": "text/x-python",
   "name": "python",
   "nbconvert_exporter": "python",
   "pygments_lexer": "ipython3",
   "version": "3.10.12"
  }
 },
 "nbformat": 4,
 "nbformat_minor": 5
}
